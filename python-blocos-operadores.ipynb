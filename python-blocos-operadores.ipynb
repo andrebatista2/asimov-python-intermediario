{
 "cells": [
  {
   "cell_type": "code",
   "id": "initial_id",
   "metadata": {
    "collapsed": true,
    "ExecuteTime": {
     "end_time": "2024-09-12T17:41:20.788496Z",
     "start_time": "2024-09-12T17:41:20.784169Z"
    }
   },
   "source": [
    "# Bloco with\n",
    "with open('notas.txt', 'w', encoding='utf-8') as file:\n",
    "    file.write('Minha nota é baixa, campeão')\n",
    "    \n",
    "print(f'Arquivo fechado. Status: {file.closed}')"
   ],
   "outputs": [
    {
     "name": "stdout",
     "output_type": "stream",
     "text": [
      "Arquivo fechado. Status: True\n"
     ]
    }
   ],
   "execution_count": 15
  },
  {
   "metadata": {
    "ExecuteTime": {
     "end_time": "2024-09-12T17:31:45.084718Z",
     "start_time": "2024-09-12T17:31:45.079476Z"
    }
   },
   "cell_type": "code",
   "source": [
    "# Biblioteca para arquivos e/ou diretórios temporários\n",
    "import tempfile\n",
    "\n",
    "# Cria um diretório temporário\n",
    "with tempfile.TemporaryDirectory() as directory:\n",
    "    print(f'Diretório temporário: {directory}')"
   ],
   "id": "a9396e3fc59f7775",
   "outputs": [
    {
     "name": "stdout",
     "output_type": "stream",
     "text": [
      "Diretório temporário: C:\\Users\\Yachiru\\AppData\\Local\\Temp\\tmp1u7zxezc\n"
     ]
    }
   ],
   "execution_count": 4
  },
  {
   "metadata": {
    "ExecuteTime": {
     "end_time": "2024-09-12T17:38:28.169292Z",
     "start_time": "2024-09-12T17:38:26.236164Z"
    }
   },
   "cell_type": "code",
   "source": [
    "# Bloco match case (>= Python 3.10) - estrutura semelhante ao switch-case\n",
    "opcao = int(input('Informe a opção escolhida: '))\n",
    "match opcao:\n",
    "    case 1:\n",
    "        print('Opção 1')\n",
    "    case 2:\n",
    "        print('Opção 2')\n",
    "    case _:\n",
    "        print('Opção qualquer')"
   ],
   "id": "e23743ffbfcc3cf3",
   "outputs": [
    {
     "name": "stdout",
     "output_type": "stream",
     "text": [
      "Opção qualquer\n"
     ]
    }
   ],
   "execution_count": 13
  },
  {
   "metadata": {
    "ExecuteTime": {
     "end_time": "2024-09-12T17:54:15.777412Z",
     "start_time": "2024-09-12T17:54:15.772997Z"
    }
   },
   "cell_type": "code",
   "source": [
    "# Operador piso = divisão inteira (//)\n",
    "# Operador divisao = divisão fracionada (/)\n",
    "# Operador módulo = resto da divisão (%)\n",
    "10 // 3"
   ],
   "id": "d7b3401132735598",
   "outputs": [
    {
     "data": {
      "text/plain": [
       "3"
      ]
     },
     "execution_count": 20,
     "metadata": {},
     "output_type": "execute_result"
    }
   ],
   "execution_count": 20
  },
  {
   "metadata": {
    "ExecuteTime": {
     "end_time": "2024-09-12T19:41:39.104164Z",
     "start_time": "2024-09-12T19:41:39.099129Z"
    }
   },
   "cell_type": "code",
   "source": [
    "# Expressões condicionais - retorna um resumo de uma determinada condição\n",
    "def retorna_valor_usuario(valor):\n",
    "    return valor if valor > 5 else False\n",
    "\n",
    "print(retorna_valor_usuario(6))\n",
    "\n",
    "# Em listas\n",
    "numeros = [1,2,3,4,5,6,7,8,9,10]\n",
    "pares_quadrados = [n ** 2 if n % 2 == 0 else n for n in numeros]\n",
    "print(pares_quadrados)"
   ],
   "id": "a665dc38ca04bb28",
   "outputs": [
    {
     "name": "stdout",
     "output_type": "stream",
     "text": [
      "6\n",
      "[1, 4, 3, 16, 5, 36, 7, 64, 9, 100]\n"
     ]
    }
   ],
   "execution_count": 24
  },
  {
   "metadata": {
    "ExecuteTime": {
     "end_time": "2024-09-12T20:23:57.958023Z",
     "start_time": "2024-09-12T20:23:57.952864Z"
    }
   },
   "cell_type": "code",
   "source": [
    "# Identidade em Python - operador is\n",
    "lista_a = [1,2,3,4,5,6]\n",
    "lista_b = lista_a  # Aqui, a lista_b é uma cópia da lista_a\n",
    "lista_b.append(7)  # Ao adicionar um valor aqui na lista_b, o resultado será refletido na lista_a\n",
    "\n",
    "print(lista_a == lista_b)  # São listas iguais em conteúdo e em tamanho\n",
    "print(lista_a is lista_b)  # São listas, mas uma não é uma cópia da outra\n",
    "\n",
    "print(lista_a)\n",
    "print(lista_b)"
   ],
   "id": "9a53a16480c89583",
   "outputs": [
    {
     "name": "stdout",
     "output_type": "stream",
     "text": [
      "True\n",
      "True\n",
      "[1, 2, 3, 4, 5, 6, 7]\n",
      "[1, 2, 3, 4, 5, 6, 7]\n"
     ]
    }
   ],
   "execution_count": 36
  },
  {
   "metadata": {
    "ExecuteTime": {
     "end_time": "2024-09-12T20:23:16.383945Z",
     "start_time": "2024-09-12T20:23:16.379931Z"
    }
   },
   "cell_type": "code",
   "source": "None is None",
   "id": "556e838e98078ae8",
   "outputs": [
    {
     "data": {
      "text/plain": [
       "True"
      ]
     },
     "execution_count": 35,
     "metadata": {},
     "output_type": "execute_result"
    }
   ],
   "execution_count": 35
  },
  {
   "metadata": {
    "ExecuteTime": {
     "end_time": "2024-09-18T14:43:04.383843Z",
     "start_time": "2024-09-18T14:43:04.377696Z"
    }
   },
   "cell_type": "code",
   "source": [
    "# Iteradores\n",
    "# Enumerate\n",
    "\n",
    "nomes = ['André', 'Lucas', 'Freitas']\n",
    "for k, v in enumerate(nomes):\n",
    "    print(f'Índice {k} -> Nome {v}')"
   ],
   "id": "2f5b9bf4e68a30cd",
   "outputs": [
    {
     "name": "stdout",
     "output_type": "stream",
     "text": [
      "Índice 0 -> Nome André\n",
      "Índice 1 -> Nome Lucas\n",
      "Índice 2 -> Nome Freitas\n"
     ]
    }
   ],
   "execution_count": 1
  },
  {
   "metadata": {
    "ExecuteTime": {
     "end_time": "2024-09-18T14:48:38.978443Z",
     "start_time": "2024-09-18T14:48:38.971936Z"
    }
   },
   "cell_type": "code",
   "source": [
    "# Sorted\n",
    "conj = {-1, 4, 2, 10, 33}\n",
    "ordenados = sorted(conj, reverse=True)\n",
    "print(ordenados)\n",
    "\n",
    "# Em listas\n",
    "nomes_ordenados = sorted(nomes)\n",
    "print(nomes_ordenados)\n",
    "\n",
    "# Reverse - funciona em listas\n",
    "for i in reversed(ordenados):\n",
    "    print(i)\n",
    "    \n",
    "# Zip - trabalha com 2 listas. As listas devem ter o mesmo tamanho, pois pode gerar problemas\n",
    "# Retorna uma tupla para cada dado descompactado das listas\n",
    "nomes = ['André', 'Marina', 'Giulia']\n",
    "idades = [31, 29, 30]\n",
    "for i in zip(nomes, idades):\n",
    "    print(i)"
   ],
   "id": "26fab89c9cd71f8",
   "outputs": [
    {
     "name": "stdout",
     "output_type": "stream",
     "text": [
      "[33, 10, 4, 2, -1]\n",
      "['André', 'Freitas', 'Lucas']\n",
      "-1\n",
      "2\n",
      "4\n",
      "10\n",
      "33\n",
      "('André', 31)\n",
      "('Marina', 29)\n",
      "('Giulia', 30)\n"
     ]
    }
   ],
   "execution_count": 13
  },
  {
   "metadata": {
    "ExecuteTime": {
     "end_time": "2024-09-18T14:54:08.099826Z",
     "start_time": "2024-09-18T14:54:08.094747Z"
    }
   },
   "cell_type": "code",
   "source": [
    "# Desempacotamento de Sequencias usando Enumerate e Zip\n",
    "nomes = ['André', 'Marina', 'Giulia']\n",
    "idades = [31, 29, 30]\n",
    "\n",
    "for i, (nome, idade) in enumerate(zip(nomes, idades)):\n",
    "    print(i, nome, idade)"
   ],
   "id": "91287366a28575a4",
   "outputs": [
    {
     "name": "stdout",
     "output_type": "stream",
     "text": [
      "0 André 31\n",
      "1 Marina 29\n",
      "2 Giulia 30\n"
     ]
    }
   ],
   "execution_count": 14
  }
 ],
 "metadata": {
  "kernelspec": {
   "display_name": "Python 3",
   "language": "python",
   "name": "python3"
  },
  "language_info": {
   "codemirror_mode": {
    "name": "ipython",
    "version": 2
   },
   "file_extension": ".py",
   "mimetype": "text/x-python",
   "name": "python",
   "nbconvert_exporter": "python",
   "pygments_lexer": "ipython2",
   "version": "2.7.6"
  }
 },
 "nbformat": 4,
 "nbformat_minor": 5
}
