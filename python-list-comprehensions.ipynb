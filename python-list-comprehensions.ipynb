{
 "cells": [
  {
   "metadata": {},
   "cell_type": "markdown",
   "source": [
    "## Compreensões de Lista\n",
    "   - É uma sintaxe de facilitação da criação de uma lista com base em uma determinada condição sob, geralmente, uma outra lista\n",
    "   - Podem ser usadas com funções dentro delas"
   ],
   "id": "697c5b38a43ec4d5"
  },
  {
   "cell_type": "code",
   "id": "initial_id",
   "metadata": {
    "collapsed": true,
    "ExecuteTime": {
     "end_time": "2024-09-12T14:53:58.857271Z",
     "start_time": "2024-09-12T14:53:58.848013Z"
    }
   },
   "source": [
    "valores = list(range(10))\n",
    "valores"
   ],
   "outputs": [
    {
     "data": {
      "text/plain": [
       "[0, 1, 2, 3, 4, 5, 6, 7, 8, 9]"
      ]
     },
     "execution_count": 1,
     "metadata": {},
     "output_type": "execute_result"
    }
   ],
   "execution_count": 1
  },
  {
   "metadata": {
    "ExecuteTime": {
     "end_time": "2024-09-12T17:10:53.905207Z",
     "start_time": "2024-09-12T17:10:18.171Z"
    }
   },
   "cell_type": "code",
   "source": [
    "# Sem Compreensão de Lista\n",
    "maiores_que5s = []\n",
    "for i in valores:\n",
    "    if i > 5:\n",
    "        maiores_que5s.append(i)\n",
    "        \n",
    "print(maiores_que5s)\n",
    "\n",
    "# Com Compreensão de Lista\n",
    "maiores_que5 = [i for i in valores if i > 5]\n",
    "\n",
    "print(maiores_que5)"
   ],
   "id": "16f1538770987cbe",
   "outputs": [
    {
     "name": "stdout",
     "output_type": "stream",
     "text": [
      "[6, 7, 8, 9]\n",
      "[6, 7, 8, 9]\n"
     ]
    }
   ],
   "execution_count": 11
  },
  {
   "metadata": {
    "ExecuteTime": {
     "end_time": "2024-09-12T15:01:00.678125Z",
     "start_time": "2024-09-12T15:01:00.673091Z"
    }
   },
   "cell_type": "code",
   "source": [
    "# Pode ser usada com funções\n",
    "def quadrado_mais2(valor):\n",
    "    return (valor ** 2) + 2\n",
    "\n",
    "maiores_que5 = [quadrado_mais2(valor) for valor in valores if valor > 5]\n",
    "print(maiores_que5)"
   ],
   "id": "3eb98cdc212ef0bc",
   "outputs": [
    {
     "name": "stdout",
     "output_type": "stream",
     "text": [
      "[38, 51, 66, 83]\n"
     ]
    }
   ],
   "execution_count": 6
  },
  {
   "metadata": {
    "ExecuteTime": {
     "end_time": "2024-09-12T17:03:54.827107Z",
     "start_time": "2024-09-12T17:03:54.819528Z"
    }
   },
   "cell_type": "code",
   "source": [
    "maiores_que5_set = {quadrado_mais2(valor) for valor in valores if valor > 5}\n",
    "print(maiores_que5_set)"
   ],
   "id": "94ca472e7d904439",
   "outputs": [
    {
     "name": "stdout",
     "output_type": "stream",
     "text": [
      "{83, 66, 51, 38}\n"
     ]
    }
   ],
   "execution_count": 7
  },
  {
   "metadata": {
    "ExecuteTime": {
     "end_time": "2024-09-12T17:06:45.030355Z",
     "start_time": "2024-09-12T17:06:45.025300Z"
    }
   },
   "cell_type": "code",
   "source": [
    "valores_dolares = {\n",
    "    'leite': 1.29,\n",
    "    'carne': 9.90,\n",
    "    'maçã': 2.77\n",
    "}\n",
    "\n",
    "fator_conversao = 5.70\n",
    "valores_reais = {key: round(value * fator_conversao, 2) for key, value in valores_dolares.items()}\n",
    "\n",
    "print(valores_reais)"
   ],
   "id": "c17277adba71a125",
   "outputs": [
    {
     "name": "stdout",
     "output_type": "stream",
     "text": [
      "{'leite': 7.35, 'carne': 56.43, 'maçã': 15.79}\n"
     ]
    }
   ],
   "execution_count": 10
  }
 ],
 "metadata": {
  "kernelspec": {
   "display_name": "Python 3",
   "language": "python",
   "name": "python3"
  },
  "language_info": {
   "codemirror_mode": {
    "name": "ipython",
    "version": 2
   },
   "file_extension": ".py",
   "mimetype": "text/x-python",
   "name": "python",
   "nbconvert_exporter": "python",
   "pygments_lexer": "ipython2",
   "version": "2.7.6"
  }
 },
 "nbformat": 4,
 "nbformat_minor": 5
}
