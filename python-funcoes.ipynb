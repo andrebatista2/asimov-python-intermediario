{
 "cells": [
  {
   "cell_type": "code",
   "id": "initial_id",
   "metadata": {
    "collapsed": true,
    "ExecuteTime": {
     "end_time": "2024-09-18T15:35:24.550049Z",
     "start_time": "2024-09-18T15:35:24.545123Z"
    }
   },
   "source": [
    "# Funções com *args e **kwargs\n",
    "# *args = argumentos passados na função \n",
    "# **kwargs = argumentos passados com chave e valor na função\n",
    "def exibe_dados(*args, **kwargs):\n",
    "    print(f'Argumentos: {args} -> Key Arguments: {kwargs}')\n",
    "    \n",
    "exibe_dados(1,2,3,4, x=5, y=6)"
   ],
   "outputs": [
    {
     "name": "stdout",
     "output_type": "stream",
     "text": [
      "Argumentos: (1, 2, 3, 4) -> Key Arguments: {'x': 5, 'y': 6}\n"
     ]
    }
   ],
   "execution_count": 1
  },
  {
   "metadata": {
    "ExecuteTime": {
     "end_time": "2024-09-18T15:37:21.354390Z",
     "start_time": "2024-09-18T15:37:21.351116Z"
    }
   },
   "cell_type": "code",
   "source": [
    "# isinstance = checa o tipo de dado de algum valor\n",
    "valor = 2\n",
    "if isinstance(valor, (int, float)):\n",
    "    print('Valor tipo int')\n",
    "else:\n",
    "    print('Não é int')"
   ],
   "id": "4187050a1bffb4d1",
   "outputs": [
    {
     "name": "stdout",
     "output_type": "stream",
     "text": [
      "Valor tipo int\n"
     ]
    }
   ],
   "execution_count": 2
  },
  {
   "metadata": {
    "ExecuteTime": {
     "end_time": "2024-09-18T15:38:08.570352Z",
     "start_time": "2024-09-18T15:38:08.562925Z"
    }
   },
   "cell_type": "code",
   "source": "",
   "id": "33a9b0ce07183cb6",
   "outputs": [
    {
     "data": {
      "text/plain": [
       "1"
      ]
     },
     "execution_count": 3,
     "metadata": {},
     "output_type": "execute_result"
    }
   ],
   "execution_count": 3
  }
 ],
 "metadata": {
  "kernelspec": {
   "display_name": "Python 3",
   "language": "python",
   "name": "python3"
  },
  "language_info": {
   "codemirror_mode": {
    "name": "ipython",
    "version": 2
   },
   "file_extension": ".py",
   "mimetype": "text/x-python",
   "name": "python",
   "nbconvert_exporter": "python",
   "pygments_lexer": "ipython2",
   "version": "2.7.6"
  }
 },
 "nbformat": 4,
 "nbformat_minor": 5
}
