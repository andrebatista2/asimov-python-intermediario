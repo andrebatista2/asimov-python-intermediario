{
 "cells": [
  {
   "metadata": {},
   "cell_type": "markdown",
   "source": [
    "## Conceitos Intermediários\n",
    "- Conjuntos: \n",
    "    - conceito derivado da matemática, geralmente representados usando diagramas de Venn, onde 2 conjuntos contém valores e estes valores podem coexistir em cada conjunto\n",
    "    - Conjuntos possuem valores únicos, não podem possuir valores repetidos\n",
    "    - Conjuntos não possuem ordem, logo, não podem ter seus valores acessados da mesma forma que uma lista\n",
    "    - Podem ser criados usando a notação de chaves ({}) ou usando o método set(), sendo este segundo, meio que recomendado a se utilizar a expressão de chaves\n",
    "    - Podem ser iterados usando for e outras expressões\n",
    "    - Lists não são aceitos dentro de sets, por não serem imutáveis, gerando o erro unhashable type. Tuplas são aceitas\n",
    "    - Conjuntos são muito mais rápidos de se buscar valores que em listas"
   ],
   "id": "8a77807f92f26ee"
  },
  {
   "metadata": {
    "ExecuteTime": {
     "end_time": "2024-09-12T14:40:45.765695Z",
     "start_time": "2024-09-12T14:40:45.757408Z"
    }
   },
   "cell_type": "code",
   "source": [
    "a = {1,2,3,4}\n",
    "a"
   ],
   "id": "c967f2e910735b7b",
   "outputs": [
    {
     "data": {
      "text/plain": [
       "{1, 2, 3, 4}"
      ]
     },
     "execution_count": 1,
     "metadata": {},
     "output_type": "execute_result"
    }
   ],
   "execution_count": 1
  },
  {
   "metadata": {
    "ExecuteTime": {
     "end_time": "2024-09-12T14:40:48.877302Z",
     "start_time": "2024-09-12T14:40:48.870145Z"
    }
   },
   "cell_type": "code",
   "source": [
    "b = set([3,4,5,6,7]) \n",
    "b"
   ],
   "id": "3cf347de048a607c",
   "outputs": [
    {
     "data": {
      "text/plain": [
       "{3, 4, 5, 6, 7}"
      ]
     },
     "execution_count": 2,
     "metadata": {},
     "output_type": "execute_result"
    }
   ],
   "execution_count": 2
  },
  {
   "metadata": {
    "ExecuteTime": {
     "end_time": "2024-09-12T14:40:50.410240Z",
     "start_time": "2024-09-12T14:40:50.405128Z"
    }
   },
   "cell_type": "code",
   "source": [
    "# Adicionando valores aos conjuntos\n",
    "b.add(8)\n",
    "a.add(5)\n",
    "\n",
    "print(b)\n",
    "print(a)\n",
    "\n",
    "# c = {1,2,3, [1,2,3]} - erro: unhashable type: list\n",
    "# print(c)\n",
    "\n",
    "c = {(1,2,3), (4,5,6)}\n",
    "print(c)"
   ],
   "id": "f0dca04c79da907",
   "outputs": [
    {
     "name": "stdout",
     "output_type": "stream",
     "text": [
      "{3, 4, 5, 6, 7, 8}\n",
      "{1, 2, 3, 4, 5}\n",
      "{(1, 2, 3), (4, 5, 6)}\n"
     ]
    }
   ],
   "execution_count": 3
  },
  {
   "metadata": {
    "ExecuteTime": {
     "end_time": "2024-09-12T14:45:21.005744Z",
     "start_time": "2024-09-12T14:45:21.001710Z"
    }
   },
   "cell_type": "code",
   "source": [
    "a.union(b)  # União de 2 conjuntos em Python\n",
    "union_alt = a | b  # Faz a mesma coisa que o union\n",
    "\n",
    "print(union_alt)\n",
    "\n",
    "# Retorna apenas os elementos comuns entre os 2 conjuntos\n",
    "print(a.intersection(b))  \n",
    "\n",
    "# Retorna os valores que estão em A mas que não estão em B. Pode ser feito usando a - b\n",
    "print(a.difference(b))  \n",
    "\n",
    "# Retorna os valores dos 2 conjuntos que não são comuns entre os 2 conjuntos. \n",
    "# Pode ser feito usando (a - b) | (b - a)\n",
    "print(a.symmetric_difference(b))  "
   ],
   "id": "98fc29697c2124ce",
   "outputs": [
    {
     "name": "stdout",
     "output_type": "stream",
     "text": [
      "{1, 2, 3, 4, 5, 6, 7, 8}\n",
      "{3, 4, 5}\n",
      "{1, 2}\n",
      "{1, 2, 6, 7, 8}\n"
     ]
    }
   ],
   "execution_count": 12
  },
  {
   "metadata": {
    "ExecuteTime": {
     "end_time": "2024-09-12T14:50:27.861132Z",
     "start_time": "2024-09-12T14:50:25.565533Z"
    }
   },
   "cell_type": "code",
   "source": [
    "numeros = list(range(1_000))\n",
    "%timeit 500 in numeros"
   ],
   "id": "dee787a999f11b42",
   "outputs": [
    {
     "name": "stdout",
     "output_type": "stream",
     "text": [
      "2.74 μs ± 54 ns per loop (mean ± std. dev. of 7 runs, 100,000 loops each)\n"
     ]
    }
   ],
   "execution_count": 13
  },
  {
   "metadata": {
    "ExecuteTime": {
     "end_time": "2024-09-12T14:51:04.700029Z",
     "start_time": "2024-09-12T14:51:02.033428Z"
    }
   },
   "cell_type": "code",
   "source": [
    "conjunto_numeros = set(numeros)\n",
    "%timeit 500 in conjunto_numeros"
   ],
   "id": "7c4b679123c76ab9",
   "outputs": [
    {
     "name": "stdout",
     "output_type": "stream",
     "text": [
      "31.9 ns ± 0.47 ns per loop (mean ± std. dev. of 7 runs, 10,000,000 loops each)\n"
     ]
    }
   ],
   "execution_count": 14
  }
 ],
 "metadata": {
  "kernelspec": {
   "display_name": "Python 3",
   "language": "python",
   "name": "python3"
  },
  "language_info": {
   "codemirror_mode": {
    "name": "ipython",
    "version": 2
   },
   "file_extension": ".py",
   "mimetype": "text/x-python",
   "name": "python",
   "nbconvert_exporter": "python",
   "pygments_lexer": "ipython2",
   "version": "2.7.6"
  }
 },
 "nbformat": 4,
 "nbformat_minor": 5
}
